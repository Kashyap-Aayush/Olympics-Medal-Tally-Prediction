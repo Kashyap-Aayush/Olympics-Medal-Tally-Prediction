{
 "cells": [
  {
   "cell_type": "code",
   "execution_count": 18,
   "id": "b685ac32",
   "metadata": {},
   "outputs": [],
   "source": [
    "import random\n",
    "num = random.randint(1,2500)"
   ]
  },
  {
   "cell_type": "code",
   "execution_count": 19,
   "id": "15815fd8",
   "metadata": {},
   "outputs": [
    {
     "data": {
      "text/plain": [
       "2477"
      ]
     },
     "execution_count": 19,
     "metadata": {},
     "output_type": "execute_result"
    }
   ],
   "source": [
    "num"
   ]
  },
  {
   "cell_type": "code",
   "execution_count": null,
   "id": "d17db467",
   "metadata": {},
   "outputs": [],
   "source": []
  }
 ],
 "metadata": {
  "kernelspec": {
   "display_name": "Python 3 (ipykernel)",
   "language": "python",
   "name": "python3"
  },
  "language_info": {
   "codemirror_mode": {
    "name": "ipython",
    "version": 3
   },
   "file_extension": ".py",
   "mimetype": "text/x-python",
   "name": "python",
   "nbconvert_exporter": "python",
   "pygments_lexer": "ipython3",
   "version": "3.11.5"
  }
 },
 "nbformat": 4,
 "nbformat_minor": 5
}
